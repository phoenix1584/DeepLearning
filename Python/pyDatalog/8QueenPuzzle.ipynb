{
 "cells": [
  {
   "cell_type": "code",
   "execution_count": null,
   "metadata": {},
   "outputs": [],
   "source": [
    "#reference : https://en.wikipedia.org/wiki/Eight_queens_puzzle\n",
    "#          : https://sites.google.com/site/pydatalog/Online-datalog-tutorial\n",
    "# Optimized solution : https://github.com/pcarbonn/pyDatalog/blob/master/pyDatalog/examples/queens_N.py\n",
    "from pyDatalog import pyDatalog\n",
    "pyDatalog.create_terms('N,X0,X1,X2,X3,X4,X5,X6,X7')\n",
    "pyDatalog.create_terms('ok,queens,next_queen')\n",
    "\n",
    "# the queen in the first column can be in any row\n",
    "queens(X0)                      <= (X0._in(range(8)))\n",
    "\n",
    "# to find the queens in the first 2 columns, find the first one first, then find a second one\n",
    "queens(X0,X1)                   <= queens(X0)                   & next_queen(X0,X1)\n",
    "\n",
    "# repeat for the following queens\n",
    "queens(X0,X1,X2)                <= queens(X0,X1)                & next_queen(X0,X1,X2)\n",
    "queens(X0,X1,X2,X3)             <= queens(X0,X1,X2)             & next_queen(X0,X1,X2,X3)\n",
    "queens(X0,X1,X2,X3,X4)          <= queens(X0,X1,X2,X3)          & next_queen(X0,X1,X2,X3,X4)\n",
    "queens(X0,X1,X2,X3,X4,X5)       <= queens(X0,X1,X2,X3,X4)       & next_queen(X0,X1,X2,X3,X4,X5)\n",
    "queens(X0,X1,X2,X3,X4,X5,X6)    <= queens(X0,X1,X2,X3,X4,X5)    & next_queen(X0,X1,X2,X3,X4,X5,X6)\n",
    "queens(X0,X1,X2,X3,X4,X5,X6,X7) <= queens(X0,X1,X2,X3,X4,X5,X6) & next_queen(X0,X1,X2,X3,X4,X5,X6,X7)\n",
    "\n",
    "# the second queen can be in any row, provided it is compatible with the first one\n",
    "next_queen(X0,X1)                   <= queens(X1)                       & ok(X0,1,X1)\n",
    "\n",
    "# to find the third queen, first find a queen compatible with the second one, then with the first\n",
    "# re-use the previous clause for maximum speed, thanks to memoization\n",
    "next_queen(X0,X1,X2)                <= next_queen(X1,X2)                & ok(X0,2,X2)\n",
    "\n",
    "# repeat for all queens\n",
    "next_queen(X0,X1,X2,X3)             <= next_queen(X1,X2,X3)             & ok(X0,3,X3)\n",
    "next_queen(X0,X1,X2,X3,X4)          <= next_queen(X1,X2,X3,X4)          & ok(X0,4,X4)\n",
    "next_queen(X0,X1,X2,X3,X4,X5)       <= next_queen(X1,X2,X3,X4,X5)       & ok(X0,5,X5)\n",
    "next_queen(X0,X1,X2,X3,X4,X5,X6)    <= next_queen(X1,X2,X3,X4,X5,X6)    & ok(X0,6,X6)\n",
    "next_queen(X0,X1,X2,X3,X4,X5,X6,X7) <= next_queen(X1,X2,X3,X4,X5,X6,X7) & ok(X0,7,X7)\n",
    "\n",
    "# it's ok to have one queen in row X1 and another in row X2 if they are separated by N columns\n",
    "ok(X1, N, X2) <= (X1 != X2) & (X1 != X2+N) & (X1 != X2-N)\n",
    "print"
   ]
  },
  {
   "cell_type": "code",
   "execution_count": null,
   "metadata": {},
   "outputs": [],
   "source": [
    "# give me one solution to the 8-queen puzzle\n",
    "print(queens(X0,X1,X2,X3,X4,X5,X6,X7).data[0])"
   ]
  },
  {
   "cell_type": "code",
   "execution_count": null,
   "metadata": {},
   "outputs": [],
   "source": [
    "# give me another solution to the 8-queen puzzle\n",
    "print(queens(X0,X1,X2,X3,X4,X5,X6,X7).data[1])"
   ]
  }
 ],
 "metadata": {
  "kernelspec": {
   "display_name": "Python 3",
   "language": "python",
   "name": "python3"
  },
  "language_info": {
   "codemirror_mode": {
    "name": "ipython",
    "version": 3
   },
   "file_extension": ".py",
   "mimetype": "text/x-python",
   "name": "python",
   "nbconvert_exporter": "python",
   "pygments_lexer": "ipython3",
   "version": "3.6.1"
  }
 },
 "nbformat": 4,
 "nbformat_minor": 2
}
