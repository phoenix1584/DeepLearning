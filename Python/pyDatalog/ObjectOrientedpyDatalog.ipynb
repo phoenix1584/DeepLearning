{
 "cells": [
  {
   "cell_type": "code",
   "execution_count": null,
   "metadata": {},
   "outputs": [],
   "source": [
    "from pyDatalog import pyDatalog"
   ]
  },
  {
   "cell_type": "code",
   "execution_count": null,
   "metadata": {},
   "outputs": [],
   "source": [
    "class Employee(pyDatalog.Mixin):\n",
    "    def __init__(self,name,manager,salary): # Employee inherits the pyDatalog capability\n",
    "        super(Employee,self).__init__() # call the initialization method of the Mixin class\n",
    "        self.name=name\n",
    "        self.salary = salary\n",
    "        self.manager = manager\n",
    "        \n",
    "    def __repr__(self) : # Specifies how to display and employee\n",
    "        return self.name"
   ]
  },
  {
   "cell_type": "code",
   "execution_count": null,
   "metadata": {},
   "outputs": [],
   "source": [
    "John = Employee('John', None, 6800)\n",
    "Mary = Employee('Mary', John, 6300)\n",
    "Sam = Employee('Sam', Mary, 5900)"
   ]
  },
  {
   "cell_type": "code",
   "execution_count": null,
   "metadata": {},
   "outputs": [],
   "source": [
    "pyDatalog.create_terms('has_car,X')\n",
    "+ has_car(Mary)"
   ]
  },
  {
   "cell_type": "code",
   "execution_count": null,
   "metadata": {},
   "outputs": [],
   "source": [
    "print (has_car(X))"
   ]
  },
  {
   "cell_type": "code",
   "execution_count": null,
   "metadata": {},
   "outputs": [],
   "source": [
    "# This fact is stored in pyDatalog's knowledge base (not in the Employee object).  All the principles explained in Tutorial 1 apply to such predicates whose terms are python objects.\n",
    "# Instead of asserting facts in the pyDatalog knowledge base, it is often more efficient for logic predicates to directly refer to the attribute of an object.  For example, we may want to have a clause concerning the salary attribute of Employee instances.  This requires 2 things:\n",
    "# that the class inherits from pyDatalog.Mixin\n",
    "# that the predicate is prefixed by the class name, e.g. ( Employee.salary[X] == Y ).\n",
    "# which employees havea salary of 6300 ?\n",
    "print(Employee.salary[X]==6300) # Mary !\n",
    "print(X.v()) # 'v()' is a convenience function to get the first value of X "
   ]
  },
  {
   "cell_type": "code",
   "execution_count": null,
   "metadata": {},
   "outputs": [],
   "source": [
    "pyDatalog.create_terms('Y')\n",
    "print(Employee.salary[X]==Y) "
   ]
  },
  {
   "cell_type": "code",
   "execution_count": null,
   "metadata": {},
   "outputs": [],
   "source": [
    "# Prefixed predicates can appear in a logic clause and logic equality.\n",
    "# Such clauses are implicitly called when accessing the corresponding class attribute. \n",
    "# For example: all the indirect managers Y of X are derived from his manager, recursively\n",
    "pyDatalog.create_terms('Z')\n",
    "Employee.indirect_manager(X,Y) <= (Employee.manager[X]==Y) & (Y != None)\n",
    "Employee.indirect_manager(X,Y) <= (Employee.manager[X]==Z) & Employee.indirect_manager(Z,Y) & (Y != None)\n",
    "\n",
    "# the salary class N of employee X is a function of his/her salary\n",
    "# this statement is a logic equality, not an assignment !\n",
    "Employee.salary_class[X] = Employee.salary[X]//1000\n",
    "\n",
    "# What is the salary class of John ?\n",
    "print(John.salary_class) # prints 6"
   ]
  },
  {
   "cell_type": "code",
   "execution_count": null,
   "metadata": {},
   "outputs": [],
   "source": [
    "#A logic clause can also redefine an existing python class attribute.  \n",
    "# For example, the Employee class can have a salary_class attribute, in addition to the logic clause above. \n",
    "# In that case, Mary.salary_class refers to the attribute,\n",
    "# while (Employee.salary_class[Mary] == Y) uses the logic clause.  \n",
    "# This example shows how to update a calculated attribute in one line:\n",
    "# calculated attribute\n",
    "Mary.salary_class = ((Employee.salary_class[Mary]==X) >= X) "
   ]
  },
  {
   "cell_type": "code",
   "execution_count": null,
   "metadata": {},
   "outputs": [],
   "source": [
    "# The pyDatalog definition of a class can be inherited. \n",
    "# For example, if Employee inherits from Person, and if a Person has a clause defining the age of the person,\n",
    "# both Person.age[X]and Employee.age[X] are legitimate. \n",
    "# Employee.age[X] will first look for a clause in parent classes; \n",
    "# if it does not find any, it will try to access the class attribute.\n",
    "# In-line queries can use the \"&\" operator to create conjunctive queries.   \n",
    "# Who are the employees of John with a salary class of 5 ?\n",
    "result = (Employee.salary_class[X] == 5) & Employee.indirect_manager(X, John)\n",
    "print(result) # prints [(Sam,)]"
   ]
  },
  {
   "cell_type": "code",
   "execution_count": null,
   "metadata": {},
   "outputs": [],
   "source": [
    "# It can be convenient to use aliases for class names, as shown below:\n",
    "E = Employee # defines an alias for Employee\n",
    "Employee.salary_class[X] = E.salary[X]//1000"
   ]
  },
  {
   "cell_type": "code",
   "execution_count": null,
   "metadata": {},
   "outputs": [],
   "source": [
    "# https://docs.python.org/2/library/pickle.html\n",
    "# https://stackoverflow.com/questions/1047318/easiest-way-to-persist-a-data-structure-to-a-file-in-python\n",
    "# https://www.sqlalchemy.org/\n",
    "# The pyDatalog Mixin also simplifies the creation of clauses for a class, using an anonymous function: \n",
    "class Employee(pyDatalog.Mixin):   # inherits pyDatalog capability <same definition of Employee as above>\n",
    "\n",
    "    @pyDatalog.program() # the following function contains pyDatalog clauses\n",
    "    def _():\n",
    "        Employee.salary_class[X] = E.salary[X]//1000"
   ]
  },
  {
   "cell_type": "code",
   "execution_count": null,
   "metadata": {},
   "outputs": [],
   "source": []
  }
 ],
 "metadata": {
  "kernelspec": {
   "display_name": "Python 3",
   "language": "python",
   "name": "python3"
  },
  "language_info": {
   "codemirror_mode": {
    "name": "ipython",
    "version": 3
   },
   "file_extension": ".py",
   "mimetype": "text/x-python",
   "name": "python",
   "nbconvert_exporter": "python",
   "pygments_lexer": "ipython3",
   "version": "3.6.1"
  }
 },
 "nbformat": 4,
 "nbformat_minor": 2
}
