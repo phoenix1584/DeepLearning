{
 "cells": [
  {
   "cell_type": "code",
   "execution_count": null,
   "metadata": {},
   "outputs": [],
   "source": [
    "# Reference : https://sites.google.com/site/pydatalog/Online-datalog-tutorial\n",
    "from pyDatalog import pyDatalog"
   ]
  },
  {
   "cell_type": "code",
   "execution_count": null,
   "metadata": {},
   "outputs": [],
   "source": [
    "#The next step is to declare the variables we'll use. They must start with an upper-case letter"
   ]
  },
  {
   "cell_type": "code",
   "execution_count": null,
   "metadata": {},
   "outputs": [],
   "source": [
    "pyDatalog.create_terms('X,Y')"
   ]
  },
  {
   "cell_type": "code",
   "execution_count": null,
   "metadata": {},
   "outputs": [],
   "source": [
    "# give me all the X so that X is 1\n",
    "print(X==1)"
   ]
  },
  {
   "cell_type": "code",
   "execution_count": null,
   "metadata": {},
   "outputs": [],
   "source": [
    "# give me all the X and Y so that X is True and Y is False\n",
    "print((X==True) & (Y==False))"
   ]
  },
  {
   "cell_type": "code",
   "execution_count": null,
   "metadata": {},
   "outputs": [],
   "source": [
    "# give me all the X and Y so that X is a name and Y is 'Hello ' followed by the first letter of X\n",
    "print((X==input('Please enter your name : ')) & (Y=='Hello ' + X[0]))"
   ]
  },
  {
   "cell_type": "code",
   "execution_count": null,
   "metadata": {},
   "outputs": [],
   "source": [
    "# give me all the X and Y so that Y is 1 and Y is X+1\n",
    "print((Y==1) & (Y==X+1))"
   ]
  },
  {
   "cell_type": "code",
   "execution_count": null,
   "metadata": {},
   "outputs": [],
   "source": [
    "print((X==(1,2)+(3,)) & (Y==X[2]))"
   ]
  },
  {
   "cell_type": "code",
   "execution_count": null,
   "metadata": {},
   "outputs": [],
   "source": [
    "def testfunc(a):\n",
    "    return a * a"
   ]
  },
  {
   "cell_type": "code",
   "execution_count": null,
   "metadata": {},
   "outputs": [],
   "source": [
    "pyDatalog.create_terms('testfunc')"
   ]
  },
  {
   "cell_type": "code",
   "execution_count": null,
   "metadata": {},
   "outputs": [],
   "source": [
    "print ((X==2) & (Y==testfunc(X)))"
   ]
  },
  {
   "cell_type": "code",
   "execution_count": null,
   "metadata": {},
   "outputs": [],
   "source": [
    "import math"
   ]
  },
  {
   "cell_type": "code",
   "execution_count": null,
   "metadata": {},
   "outputs": [],
   "source": [
    "pyDatalog.create_terms('math')"
   ]
  },
  {
   "cell_type": "code",
   "execution_count": null,
   "metadata": {},
   "outputs": [],
   "source": [
    "print((X==9) & (Y==math.sqrt(X)))"
   ]
  },
  {
   "cell_type": "code",
   "execution_count": null,
   "metadata": {},
   "outputs": [],
   "source": [
    "pyDatalog.create_terms('X,Y,Z')"
   ]
  },
  {
   "cell_type": "code",
   "execution_count": null,
   "metadata": {},
   "outputs": [],
   "source": [
    "print (X.in_((0,1,2,3,4,5)))"
   ]
  },
  {
   "cell_type": "code",
   "execution_count": null,
   "metadata": {},
   "outputs": [],
   "source": [
    "print (X.in_(range(5)).data)"
   ]
  },
  {
   "cell_type": "code",
   "execution_count": null,
   "metadata": {},
   "outputs": [],
   "source": [
    "print(X.in_(range(5)) == set([(0,), (1,), (2,), (3,), (4,)]))"
   ]
  },
  {
   "cell_type": "code",
   "execution_count": null,
   "metadata": {},
   "outputs": [],
   "source": [
    "print (\"Data : \" , X.data)"
   ]
  },
  {
   "cell_type": "code",
   "execution_count": null,
   "metadata": {},
   "outputs": [],
   "source": [
    "print (\"First Value : \",X.v())"
   ]
  },
  {
   "cell_type": "code",
   "execution_count": null,
   "metadata": {},
   "outputs": [],
   "source": [
    "# below, '>=' is a variable extraction operator\n",
    "print(\"Extraction of first value of X: \", X.in_(range(5)) >= X)"
   ]
  },
  {
   "cell_type": "code",
   "execution_count": null,
   "metadata": {},
   "outputs": [],
   "source": [
    "# give me all X in range 0..4 that are below 2\n",
    "print(X.in_(range(5)) & (X<2))"
   ]
  },
  {
   "cell_type": "code",
   "execution_count": null,
   "metadata": {},
   "outputs": [],
   "source": [
    "# Nested Loops\n",
    "print (X.in_(range(5)) & (Y.in_(range(5))) & (Z == X + Y) & (Z < 4))"
   ]
  },
  {
   "cell_type": "code",
   "execution_count": null,
   "metadata": {},
   "outputs": [],
   "source": [
    "# Logic Functions and dictionaries\n",
    "# Salary calculation example\n",
    "pyDatalog.create_terms('X,Y,Z, salary, tax_rate, tax_rate_for_salary_above, net_salary')"
   ]
  },
  {
   "cell_type": "code",
   "execution_count": null,
   "metadata": {},
   "outputs": [],
   "source": [
    "salary['foo'] = 60\n",
    "salary['bar'] = 110"
   ]
  },
  {
   "cell_type": "code",
   "execution_count": null,
   "metadata": {},
   "outputs": [],
   "source": [
    "print (salary[X]==Y)"
   ]
  },
  {
   "cell_type": "code",
   "execution_count": null,
   "metadata": {},
   "outputs": [],
   "source": [
    "print (salary['foo'] ==Y)"
   ]
  },
  {
   "cell_type": "code",
   "execution_count": null,
   "metadata": {},
   "outputs": [],
   "source": [
    "print (salary[X] > 100)"
   ]
  },
  {
   "cell_type": "code",
   "execution_count": null,
   "metadata": {},
   "outputs": [],
   "source": [
    "print ((salary[X]==Y) & ~(Y==100))"
   ]
  },
  {
   "cell_type": "code",
   "execution_count": null,
   "metadata": {},
   "outputs": [],
   "source": [
    "# the standard tax rate is 33%.\n",
    "+(tax_rate[None]==0.33)"
   ]
  },
  {
   "cell_type": "code",
   "execution_count": null,
   "metadata": {},
   "outputs": [],
   "source": [
    "print (Z==salary[X]*(1 - tax_rate[None]))"
   ]
  },
  {
   "cell_type": "code",
   "execution_count": null,
   "metadata": {},
   "outputs": [],
   "source": [
    "# A function can also be defined by a clause. Here is a simple example:\n",
    "# the net salary of X is Y if Y is the salary of X, reduced by the tax rate\n",
    "net_salary[X] = salary[X]*(1-tax_rate[None])\n",
    "print (net_salary[X]==Y)"
   ]
  },
  {
   "cell_type": "code",
   "execution_count": null,
   "metadata": {},
   "outputs": [],
   "source": [
    "# The '<=' is the important token in the statements above : it is read 'if'.\n",
    "# The most general definition of the function is given first. \n",
    "# When searching for possible answers, pyDatalog begins with the last rule defined, i.e. the more specific, \n",
    "# and stops as soon as a valid answer is found for the function. \n",
    "# So, even though the 2 rules seem to apply for a salary of 150, the second one is actually used to obtain 50 %\n",
    "# the tax rate for salaries above 0 is 33%, and above 100 is 50 %\n",
    "(tax_rate_for_salary_above[X] == 0.33) <= (0 <= X)\n",
    "(tax_rate_for_salary_above[X] == 0.50) <= (100 <= X)\n",
    "print(tax_rate_for_salary_above[70]==Y)\n",
    "print\n",
    "print(tax_rate_for_salary_above[150]==Y)"
   ]
  },
  {
   "cell_type": "code",
   "execution_count": null,
   "metadata": {},
   "outputs": [],
   "source": []
  }
 ],
 "metadata": {
  "kernelspec": {
   "display_name": "Python 3",
   "language": "python",
   "name": "python3"
  },
  "language_info": {
   "codemirror_mode": {
    "name": "ipython",
    "version": 3
   },
   "file_extension": ".py",
   "mimetype": "text/x-python",
   "name": "python",
   "nbconvert_exporter": "python",
   "pygments_lexer": "ipython3",
   "version": "3.6.1"
  }
 },
 "nbformat": 4,
 "nbformat_minor": 2
}
