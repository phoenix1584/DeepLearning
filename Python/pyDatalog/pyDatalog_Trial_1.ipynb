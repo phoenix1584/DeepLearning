{
 "cells": [
  {
   "cell_type": "code",
   "execution_count": null,
   "metadata": {},
   "outputs": [],
   "source": [
    "# Reference : https://sites.google.com/site/pydatalog/Online-datalog-tutorial\n",
    "from pyDatalog import pyDatalog"
   ]
  },
  {
   "cell_type": "code",
   "execution_count": null,
   "metadata": {},
   "outputs": [],
   "source": [
    "#The next step is to declare the variables we'll use. They must start with an upper-case letter"
   ]
  },
  {
   "cell_type": "code",
   "execution_count": null,
   "metadata": {},
   "outputs": [],
   "source": [
    "pyDatalog.create_terms('X,Y')"
   ]
  },
  {
   "cell_type": "code",
   "execution_count": null,
   "metadata": {},
   "outputs": [],
   "source": [
    "# give me all the X so that X is 1\n",
    "print(X==1)"
   ]
  },
  {
   "cell_type": "code",
   "execution_count": null,
   "metadata": {},
   "outputs": [],
   "source": [
    "# give me all the X and Y so that X is True and Y is False\n",
    "print((X==True) & (Y==False))"
   ]
  },
  {
   "cell_type": "code",
   "execution_count": null,
   "metadata": {},
   "outputs": [],
   "source": [
    "# give me all the X and Y so that X is a name and Y is 'Hello ' followed by the first letter of X\n",
    "print((X==input('Please enter your name : ')) & (Y=='Hello ' + X[0]))"
   ]
  },
  {
   "cell_type": "code",
   "execution_count": null,
   "metadata": {},
   "outputs": [],
   "source": [
    "# give me all the X and Y so that Y is 1 and Y is X+1\n",
    "print((Y==1) & (Y==X+1))"
   ]
  },
  {
   "cell_type": "code",
   "execution_count": null,
   "metadata": {},
   "outputs": [],
   "source": [
    "print((X==(1,2)+(3,)) & (Y==X[2]))"
   ]
  },
  {
   "cell_type": "code",
   "execution_count": null,
   "metadata": {},
   "outputs": [],
   "source": [
    "def testfunc(a):\n",
    "    return a * a"
   ]
  },
  {
   "cell_type": "code",
   "execution_count": null,
   "metadata": {},
   "outputs": [],
   "source": [
    "pyDatalog.create_terms('testfunc')"
   ]
  },
  {
   "cell_type": "code",
   "execution_count": null,
   "metadata": {},
   "outputs": [],
   "source": [
    "print ((X==2) & (Y==testfunc(X)))"
   ]
  },
  {
   "cell_type": "code",
   "execution_count": null,
   "metadata": {},
   "outputs": [],
   "source": [
    "import math"
   ]
  },
  {
   "cell_type": "code",
   "execution_count": null,
   "metadata": {},
   "outputs": [],
   "source": [
    "pyDatalog.create_terms('math')"
   ]
  },
  {
   "cell_type": "code",
   "execution_count": null,
   "metadata": {},
   "outputs": [],
   "source": [
    "print((X==9) & (Y==math.sqrt(X)))"
   ]
  },
  {
   "cell_type": "code",
   "execution_count": null,
   "metadata": {},
   "outputs": [],
   "source": [
    "pyDatalog.create_terms('X,Y,Z')"
   ]
  },
  {
   "cell_type": "code",
   "execution_count": null,
   "metadata": {},
   "outputs": [],
   "source": [
    "print (X.in_((0,1,2,3,4,5)))"
   ]
  },
  {
   "cell_type": "code",
   "execution_count": null,
   "metadata": {},
   "outputs": [],
   "source": [
    "print (X.in_(range(5)).data)"
   ]
  },
  {
   "cell_type": "code",
   "execution_count": null,
   "metadata": {},
   "outputs": [],
   "source": [
    "print(X.in_(range(5)) == set([(0,), (1,), (2,), (3,), (4,)]))"
   ]
  },
  {
   "cell_type": "code",
   "execution_count": null,
   "metadata": {},
   "outputs": [],
   "source": [
    "print (\"Data : \" , X.data)"
   ]
  },
  {
   "cell_type": "code",
   "execution_count": null,
   "metadata": {},
   "outputs": [],
   "source": [
    "print (\"First Value : \",X.v())"
   ]
  },
  {
   "cell_type": "code",
   "execution_count": null,
   "metadata": {},
   "outputs": [],
   "source": [
    "# below, '>=' is a variable extraction operator\n",
    "print(\"Extraction of first value of X: \", X.in_(range(5)) >= X)"
   ]
  },
  {
   "cell_type": "code",
   "execution_count": null,
   "metadata": {},
   "outputs": [],
   "source": [
    "# give me all X in range 0..4 that are below 2\n",
    "print(X.in_(range(5)) & (X<2))"
   ]
  },
  {
   "cell_type": "code",
   "execution_count": null,
   "metadata": {},
   "outputs": [],
   "source": [
    "# Nested Loops\n",
    "print (X.in_(range(5)) & (Y.in_(range(5))) & (Z == X + Y) & (Z < 4))"
   ]
  },
  {
   "cell_type": "code",
   "execution_count": null,
   "metadata": {},
   "outputs": [],
   "source": [
    "# Logic Functions and dictionaries\n",
    "# Salary calculation example\n",
    "pyDatalog.create_terms('X,Y,Z, salary, tax_rate, tax_rate_for_salary_above, net_salary')"
   ]
  },
  {
   "cell_type": "code",
   "execution_count": null,
   "metadata": {},
   "outputs": [],
   "source": [
    "salary['foo'] = 60\n",
    "salary['bar'] = 110"
   ]
  },
  {
   "cell_type": "code",
   "execution_count": null,
   "metadata": {},
   "outputs": [],
   "source": [
    "print (salary[X]==Y)"
   ]
  },
  {
   "cell_type": "code",
   "execution_count": null,
   "metadata": {},
   "outputs": [],
   "source": [
    "print (salary['foo'] ==Y)"
   ]
  },
  {
   "cell_type": "code",
   "execution_count": null,
   "metadata": {},
   "outputs": [],
   "source": [
    "print (salary[X] > 100)"
   ]
  },
  {
   "cell_type": "code",
   "execution_count": null,
   "metadata": {},
   "outputs": [],
   "source": [
    "print ((salary[X]==Y) & ~(Y==100))"
   ]
  },
  {
   "cell_type": "code",
   "execution_count": null,
   "metadata": {},
   "outputs": [],
   "source": [
    "# the standard tax rate is 33%.\n",
    "+(tax_rate[None]==0.33)"
   ]
  },
  {
   "cell_type": "code",
   "execution_count": null,
   "metadata": {},
   "outputs": [],
   "source": [
    "print (Z==salary[X]*(1 - tax_rate[None]))"
   ]
  },
  {
   "cell_type": "code",
   "execution_count": null,
   "metadata": {},
   "outputs": [],
   "source": [
    "# A function can also be defined by a clause. Here is a simple example:\n",
    "# the net salary of X is Y if Y is the salary of X, reduced by the tax rate\n",
    "net_salary[X] = salary[X]*(1-tax_rate[None])\n",
    "print (net_salary[X]==Y)"
   ]
  },
  {
   "cell_type": "code",
   "execution_count": null,
   "metadata": {},
   "outputs": [],
   "source": [
    "# The '<=' is the important token in the statements above : it is read 'if'.\n",
    "# The most general definition of the function is given first. \n",
    "# When searching for possible answers, pyDatalog begins with the last rule defined, i.e. the more specific, \n",
    "# and stops as soon as a valid answer is found for the function. \n",
    "# So, even though the 2 rules seem to apply for a salary of 150, the second one is actually used to obtain 50 %\n",
    "# the tax rate for salaries above 0 is 33%, and above 100 is 50 %\n",
    "(tax_rate_for_salary_above[X] == 0.33) <= (0 <= X)\n",
    "(tax_rate_for_salary_above[X] == 0.50) <= (100 <= X)\n",
    "print(tax_rate_for_salary_above[70]==Y)\n",
    "print\n",
    "print(tax_rate_for_salary_above[150]==Y)"
   ]
  },
  {
   "cell_type": "code",
   "execution_count": null,
   "metadata": {},
   "outputs": [],
   "source": [
    "del net_salary[X]"
   ]
  },
  {
   "cell_type": "code",
   "execution_count": null,
   "metadata": {},
   "outputs": [],
   "source": [
    "net_salary[X] = salary[X]*(1-tax_rate_for_salary_above[salary[X]])\n",
    "# give me all X and Y so that Y is the net salary of X\n",
    "print(net_salary[X]==Y)"
   ]
  },
  {
   "cell_type": "code",
   "execution_count": null,
   "metadata": {},
   "outputs": [],
   "source": [
    "pyDatalog.create_terms('factorial, N')\n",
    "\n",
    "factorial[N] = N*factorial[N-1]\n",
    "factorial[1] = 1\n",
    "\n",
    "print(factorial[7]==N)"
   ]
  },
  {
   "cell_type": "code",
   "execution_count": null,
   "metadata": {},
   "outputs": [],
   "source": [
    "pyDatalog.create_terms('X,Y,Z, works_in, department_size, manager, indirect_manager, count_of_indirect_reports')"
   ]
  },
  {
   "cell_type": "code",
   "execution_count": null,
   "metadata": {},
   "outputs": [],
   "source": [
    "# Mary works in Production\n",
    "+ works_in('Mary', 'Production')\n",
    "+ works_in('Sam',  'Marketing')\n",
    "\n",
    "+ works_in('John', 'Production')\n",
    "+ works_in('John', 'Marketing')"
   ]
  },
  {
   "cell_type": "code",
   "execution_count": null,
   "metadata": {},
   "outputs": [],
   "source": [
    "# give me all the X that work in Marketing\n",
    "print(works_in(X,  'Production'))"
   ]
  },
  {
   "cell_type": "code",
   "execution_count": null,
   "metadata": {},
   "outputs": [],
   "source": [
    "# the manager of Mary is John\n",
    "+(manager['Mary'] == 'John')\n",
    "+(manager['Sam']  == 'Mary')\n",
    "+(manager['Tom']  == 'Mary')"
   ]
  },
  {
   "cell_type": "code",
   "execution_count": null,
   "metadata": {},
   "outputs": [],
   "source": [
    "# one of the indirect manager of X is Y, if the (direct) manager of X is Y\n",
    "indirect_manager(X,Y) <= (manager[X] == Y)\n",
    "# another indirect manager of X is Y, if there is a Z so that the manager of X is Z, \n",
    "#   and an indirect manager of Z is Y\n",
    "indirect_manager(X,Y) <= (manager[X] == Z) & indirect_manager(Z,Y)\n",
    "print(indirect_manager('Sam',X))"
   ]
  },
  {
   "cell_type": "code",
   "execution_count": null,
   "metadata": {},
   "outputs": [],
   "source": [
    "pyDatalog.create_terms('count_of_direct_reports')\n",
    "(count_of_direct_reports[X]==len_(Y)) <= (manager[Y]==X)\n",
    "print(count_of_direct_reports['Mary']==Y)"
   ]
  },
  {
   "cell_type": "code",
   "execution_count": null,
   "metadata": {},
   "outputs": [],
   "source": [
    "#The aggregate functions are:\n",
    "\n",
    "#len_ (P[X]==len_(Y)) <= body : P[X] is the count of values of Y (associated to X by the body of the clause)\n",
    "#sum_ (P[X]==sum_(Y, for_each=Z)) <= body : P[X] is the sum of Y for each Z. (Z is used to distinguish possibly identical Y values)\n",
    "#min_, max_ (P[X]==min_(Y, order_by=Z)) <= body : P[X] is the minimum (or maximum) of Y sorted by Z.\n",
    "#tuple_ (P[X]==tuple_(Y, order_by=Z)) <= body : P[X] is a tuple containing all values of Y sorted by Z.\n",
    "#concat_ (P[X]==concat_(Y, order_by=Z, sep=',')) <= body : same as 'sum' but for string. The strings are sorted by Z, and separated by ','.\n",
    "#rank_ (P[X]==rank_(group_by=Y, order_by=Z)) <= body : P[X] is the sequence number of X in the list of Y values when the list is sorted by Z.\n",
    "#running_sum_ (P[X]==running_sum_(N, group_by=Y, order_by=Z)) <= body : P[X] is the sum of the values of N, for each Y that are before or equal to X when Y's are sorted by Z.\n",
    "#mean_ and linear_regression : see our reference (https://sites.google.com/site/pydatalog/reference)\n",
    "\n",
    "# https://en.wikipedia.org/wiki/Memoization"
   ]
  },
  {
   "cell_type": "code",
   "execution_count": null,
   "metadata": {},
   "outputs": [],
   "source": [
    "# John does not work in Production anymore\n",
    "- works_in('John', 'Production')"
   ]
  },
  {
   "cell_type": "code",
   "execution_count": null,
   "metadata": {},
   "outputs": [],
   "source": [
    "print (works_in(X,'Production'))"
   ]
  },
  {
   "cell_type": "code",
   "execution_count": null,
   "metadata": {},
   "outputs": [],
   "source": [
    "(count_of_indirect_reports[X]==len_(Y)) <= indirect_manager(Y,X)\n",
    "print(count_of_indirect_reports['John']==Y)"
   ]
  },
  {
   "cell_type": "code",
   "execution_count": null,
   "metadata": {},
   "outputs": [],
   "source": [
    "print (count_of_indirect_reports[X]==Y)"
   ]
  },
  {
   "cell_type": "code",
   "execution_count": null,
   "metadata": {},
   "outputs": [],
   "source": [
    "print (indirect_manager(Y,X))"
   ]
  },
  {
   "cell_type": "code",
   "execution_count": null,
   "metadata": {},
   "outputs": [],
   "source": [
    "#Tree, graphs and recursive algorithms\n",
    "pyDatalog.create_terms('link, can_reach')\n",
    "\n",
    "# there is a link between node 1 and node 2\n",
    "+link(1,2)\n",
    "+link(2,3)\n",
    "+link(2,4)\n",
    "+link(2,5)\n",
    "+link(5,6)\n",
    "+link(6,7)\n",
    "+link(7,2)"
   ]
  },
  {
   "cell_type": "code",
   "execution_count": null,
   "metadata": {},
   "outputs": [],
   "source": [
    "# links are bi-directional\n",
    "link(X,Y) <= link(Y,X)"
   ]
  },
  {
   "cell_type": "code",
   "execution_count": null,
   "metadata": {},
   "outputs": [],
   "source": [
    "# can Y be reached from X ?\n",
    "can_reach(X,Y) <= link(X,Y) # direct link\n",
    "# via Z\n",
    "can_reach(X,Y) <= link(X,Z) & can_reach(Z,Y) & (X!=Y)\n",
    "\n",
    "print (can_reach(1,Y))"
   ]
  },
  {
   "cell_type": "code",
   "execution_count": null,
   "metadata": {},
   "outputs": [],
   "source": []
  }
 ],
 "metadata": {
  "kernelspec": {
   "display_name": "Python 3",
   "language": "python",
   "name": "python3"
  },
  "language_info": {
   "codemirror_mode": {
    "name": "ipython",
    "version": 3
   },
   "file_extension": ".py",
   "mimetype": "text/x-python",
   "name": "python",
   "nbconvert_exporter": "python",
   "pygments_lexer": "ipython3",
   "version": "3.6.1"
  }
 },
 "nbformat": 4,
 "nbformat_minor": 2
}
