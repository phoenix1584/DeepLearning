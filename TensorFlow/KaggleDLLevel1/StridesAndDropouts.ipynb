{
  "cells": [
    {
      "metadata": {
        "_cell_guid": "53e4cfb1-4316-46d1-a753-7d4045bb4da2",
        "_uuid": "083760abcfaab135111dbed019a0d630134f30a2"
      },
      "cell_type": "markdown",
      "source": "# Introduction\n\nYou've built a model to identify clothing types in the **MNIST for Fashion** dataset.  Now you will make your model bigger, specify larger stride lengths and apply dropout. These changes will make your model faster and more accurate.\n\nThis is the last step in the **[Deep Learning Track](https://www.kaggle.com/learn/deep-learning)**.\n\n# Starter Code\n\n## Data Preparation\n**You need to run this cell of code.**\n"
    },
    {
      "metadata": {
        "_cell_guid": "15657934-6637-42b8-9ae6-bce60a608db7",
        "_uuid": "d312dc79af7fc2c5adf211f90ce44d21bdbc5ddd",
        "collapsed": true,
        "trusted": true
      },
      "cell_type": "code",
      "source": "import numpy as np\nfrom sklearn.model_selection import train_test_split\nfrom tensorflow.python import keras\n\nimg_rows, img_cols = 28, 28\nnum_classes = 10\n\ndef prep_data(raw, train_size, val_size):\n    y = raw[:, 0]\n    out_y = keras.utils.to_categorical(y, num_classes)\n    \n    x = raw[:,1:]\n    num_images = raw.shape[0]\n    out_x = x.reshape(num_images, img_rows, img_cols, 1)\n    out_x = out_x / 255\n    return out_x, out_y\n\nfashion_file = \"../input/fashionmnist/fashion-mnist_train.csv\"\nfashion_data = np.loadtxt(fashion_file, skiprows=1, delimiter=',')\nx, y = prep_data(fashion_data, train_size=50000, val_size=5000)",
      "execution_count": 1,
      "outputs": []
    },
    {
      "metadata": {
        "_cell_guid": "ccf0a6ed-6579-4c32-8898-1a41857249f9",
        "_uuid": "d485ab8f82c9308f1bdb06da4c8b7c8e0feaa965"
      },
      "cell_type": "markdown",
      "source": "## Sample Model Code\n\n```\nfashion_model = Sequential()\nfashion_model.add(Conv2D(12, kernel_size=(3, 3), strides=2,\n                 activation='relu',\n                 input_shape=(img_rows, img_cols, 1)))\nfashion_model.add(Conv2D(12, (3, 3), strides=2, activation='relu'))\nfashion_model.add(Flatten())\nfashion_model.add(Dense(128, activation='relu'))\nfashion_model.add(Dense(num_classes, activation='softmax'))\n\nfashion_model.compile(loss=keras.losses.categorical_crossentropy,\n              optimizer='adam',\n              metrics=['accuracy'])\n\nfashion_model.fit(train_x, train_y,\n          batch_size=batch_size,\n          epochs=epochs,\n          validation_split = 0.2)\n```"
    },
    {
      "metadata": {
        "_cell_guid": "97fdec45-36d0-45cd-8273-3765c477ef66",
        "_uuid": "8fff3f44f63059c6451d9b7a71cee61641d6622a"
      },
      "cell_type": "markdown",
      "source": "# Adding Strides\nSpecify, compile and fit a model much like the model above, but specify a stride length of 2 for each convolutional layer.  Call your new model `fashion_model_1`"
    },
    {
      "metadata": {
        "_cell_guid": "3d88fc9c-e4c1-4f97-b2b5-1f2c1bd079c6",
        "_uuid": "3fcdca52b62a612b5f9c70e649a5f2b7e3b27a5a",
        "trusted": true
      },
      "cell_type": "code",
      "source": "from tensorflow.python.keras.models import Sequential\nfrom tensorflow.python.keras.layers import Dense, Flatten, Conv2D, Dropout\n\nfashion_model_1 = Sequential()\n# Specify the rest of the model\nfashion_model_1.add(Conv2D(12, kernel_size=(3,3),strides=2,activation='relu',input_shape=(img_rows,img_cols,1)))\nfashion_model_1.add(Conv2D(12, kernel_size=(3,3),strides=2,activation='relu'))\nfashion_model_1.add(Flatten())\nfashion_model_1.add(Dense(128,activation='relu'))\nfashion_model_1.add(Dense(num_classes,activation='softmax'))\n\n# Compile fashion_model_1\nfashion_model_1.compile(loss=keras.losses.categorical_crossentropy,optimizer='adam',metrics=['accuracy'])\n# Fit fashion_model_1\nfashion_model_1.fit(x,y,batch_size=128,epochs=2,validation_split=0.2)\n",
      "execution_count": 5,
      "outputs": [
        {
          "output_type": "stream",
          "text": "Train on 48000 samples, validate on 12000 samples\nEpoch 1/2\n48000/48000 [==============================]48000/48000 [==============================] - 9s 188us/step - loss: 0.6460 - acc: 0.7735 - val_loss: 0.4951 - val_acc: 0.8198\n\nEpoch 2/2\n48000/48000 [==============================]48000/48000 [==============================] - 8s 173us/step - loss: 0.4353 - acc: 0.8426 - val_loss: 0.4263 - val_acc: 0.8505\n\n",
          "name": "stdout"
        },
        {
          "output_type": "execute_result",
          "execution_count": 5,
          "data": {
            "text/plain": "<tensorflow.python.keras._impl.keras.callbacks.History at 0x7f5feb32aa58>"
          },
          "metadata": {}
        }
      ]
    },
    {
      "metadata": {
        "_uuid": "9772fb49d67ea47e9978462f07dd800268ed1019"
      },
      "cell_type": "markdown",
      "source": "# Make Model Larger\nYou should have noticed that `fashion_model_1` trained pretty quickly.  This makes it reasonable to make the model larger. Specify a new model called `fashion_model_2` that is identical to fashion_model_1, except:\n1. Add an additional `Conv2D` layer immediately before the Flatten layer. Make it similar to the Conv2D layers you already have, except don't set the stride length in this new layer (we have already shrunk the representation enough with the existing layers)..\n2. Change the number of filters in each convolutional layer to 24.\n\nAfter specifying `fashion_model_2`, compile and fit it"
    },
    {
      "metadata": {
        "_cell_guid": "d60995d6-84ac-48d4-85f6-bde29cd0670e",
        "_uuid": "fa193a82b50064a8d42d380e8a38e3ff302c9015",
        "trusted": true
      },
      "cell_type": "code",
      "source": "# Your code for fashion_model_2 below\nfashion_model_2 = Sequential()\nfashion_model_2.add(Conv2D(24,kernel_size=(3,3),strides=2,activation='relu',input_shape=(img_rows,img_cols,1)))\nfashion_model_2.add(Conv2D(24,kernel_size=(3,3),strides=2,activation='relu'))\nfashion_model_2.add(Conv2D(24,kernel_size=(3,3),activation='relu'))\nfashion_model_2.add(Flatten())\nfashion_model_2.add(Dense(128,activation='relu'))\nfashion_model_2.add(Dense(num_classes,activation='softmax'))\nfashion_model_2.compile(loss=keras.losses.categorical_crossentropy,optimizer='adam',metrics=['accuracy'])\nfashion_model_2.fit(x,y,batch_size=128,epochs=2,validation_split=0.2)",
      "execution_count": 7,
      "outputs": [
        {
          "output_type": "stream",
          "text": "Train on 48000 samples, validate on 12000 samples\nEpoch 1/2\n48000/48000 [==============================]48000/48000 [==============================] - 17s 355us/step - loss: 0.6707 - acc: 0.7594 - val_loss: 0.4744 - val_acc: 0.8334- ETA: 8s - l30208/48000 [=================>............] - ETA: 5s - loss: 0.7722 - acc: 0. - ETA: 5s - loss: 0.7635 - acc33920/48000 [====================>.........] -46080/48000 [===========================>..] - ETA: 0s - loss: 0.6777 - acc: \n\nEpoch 2/2\n48000/48000 [==============================]48000/48000 [==============================] - 17s 352us/step - loss: 0.4296 - acc: 0.8469 - val_loss: 0.4043 - val_acc: 0.8552===============>....\n\n",
          "name": "stdout"
        },
        {
          "output_type": "execute_result",
          "execution_count": 7,
          "data": {
            "text/plain": "<tensorflow.python.keras._impl.keras.callbacks.History at 0x7f600c72fe10>"
          },
          "metadata": {}
        }
      ]
    },
    {
      "metadata": {
        "_uuid": "40f15d7a35442fc943068c96748697461b5e5770"
      },
      "cell_type": "markdown",
      "source": "# Add Dropout\nSpecify `fashion_model_3`, which is identical to `fashion_model_2` except that it adds dropout immediately after each convolutional layer (so it adds dropout 3 times). Compile and fit this model.  Compare the model's performance on validation data to the previous models.\n"
    },
    {
      "metadata": {
        "trusted": true,
        "_uuid": "8525438bb18f2b59ef1551289950f7514d7b7034"
      },
      "cell_type": "code",
      "source": "# Your code for fashion_model_3 below\nfashion_model_3 = Sequential()\nfashion_model_3.add(Conv2D(24,kernel_size=(3,3),strides=2,activation='relu',input_shape=(img_rows,img_cols,1)))\nfashion_model_3.add(Dropout(0.5))\nfashion_model_3.add(Conv2D(24,kernel_size=(3,3),strides=2,activation='relu'))\nfashion_model_3.add(Dropout(0.5))\nfashion_model_3.add(Conv2D(24,kernel_size=(3,3),activation='relu'))\nfashion_model_3.add(Dropout(0.5))\nfashion_model_3.add(Flatten())\nfashion_model_3.add(Dense(128,activation='relu'))\nfashion_model_3.add(Dense(num_classes,activation='softmax'))\nfashion_model_3.compile(loss=keras.losses.categorical_crossentropy,optimizer='adam',metrics=['accuracy'])\nfashion_model_3.fit(x,y,batch_size=128,epochs=2,validation_split=0.2)",
      "execution_count": 11,
      "outputs": [
        {
          "output_type": "stream",
          "text": "Train on 48000 samples, validate on 12000 samples\nEpoch 1/2\n48000/48000 [==============================]48000/48000 [==============================] - 21s 434us/step - loss: 1.0164 - acc: 0.6206 - val_loss: 0.6057 - val_acc: 0.7673\n\nEpoch 2/2\n48000/48000 [==============================]48000/48000 [==============================] - 21s 432us/step - loss: 0.6541 - acc: 0.7543 - val_loss: 0.5200 - val_acc: 0.8107\n\n",
          "name": "stdout"
        },
        {
          "output_type": "execute_result",
          "execution_count": 11,
          "data": {
            "text/plain": "<tensorflow.python.keras._impl.keras.callbacks.History at 0x7f60140eb2e8>"
          },
          "metadata": {}
        }
      ]
    },
    {
      "metadata": {
        "_uuid": "b48a69822e390a07060539f3394b2173150245c8"
      },
      "cell_type": "markdown",
      "source": "# Congrats\nYou've finished level 1 of the deep learning track.  You have the tools to create and tune computer vision models.  Pick a project and try out your skills.  \n\nA few fun datasets you might try include:\n- [Written letter recognition](https://www.kaggle.com/olgabelitskaya/classification-of-handwritten-letters)\n- [Flower Identification](https://www.kaggle.com/alxmamaev/flowers-recognition)\n- [Cats vs Dogs](https://www.kaggle.com/c/dogs-vs-cats-redux-kernels-edition)\n- [10 Monkeys](https://www.kaggle.com/slothkong/10-monkey-species)\n- [Predict Bone Age from X-Rays](https://www.kaggle.com/kmader/rsna-bone-age)\n\nYou have learned a lot. There is still a lot more to learn in deep learning, but you should feel great about your new skills.\n"
    },
    {
      "metadata": {
        "trusted": true,
        "collapsed": true,
        "_uuid": "7aea6b375562544010373de69fcef1f9fe084f0f"
      },
      "cell_type": "code",
      "source": "",
      "execution_count": null,
      "outputs": []
    }
  ],
  "metadata": {
    "kernelspec": {
      "display_name": "Python 3",
      "language": "python",
      "name": "python3"
    },
    "language_info": {
      "name": "python",
      "version": "3.6.4",
      "mimetype": "text/x-python",
      "codemirror_mode": {
        "name": "ipython",
        "version": 3
      },
      "pygments_lexer": "ipython3",
      "nbconvert_exporter": "python",
      "file_extension": ".py"
    }
  },
  "nbformat": 4,
  "nbformat_minor": 1
}