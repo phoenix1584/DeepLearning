{
  "cells": [
    {
      "metadata": {
        "_uuid": "655d85f3898397e980e66d516e556ffe1caa24ed",
        "collapsed": true,
        "_cell_guid": "68deb0f5-658f-401f-8010-ce6654702b84"
      },
      "cell_type": "markdown",
      "source": "# Exercise Introduction\n\nThe cameraman who shot our deep learning videos mentioned a frustrating problem that we could solve with deep learning.  \n\nHe offers a service that scans photographs and slides to store them digitally.  He uses a machine that quickly scans many photos. But depending on the orientation of the original photo, many images are digitized sideways.  He currently spends a lot of time looking find which photos need to be rotated sideways, so he can fix them.\n\nIt would save him a lot of time if this process could be automated.  In this exercise, you will build a model that distinguishes which photos are sideways and which are upright.\n\nIf you were going to sell this service commercially, you might use a large dataset to train the model. But we'll have great success with even a small dataset.  We'll work with a small dataset of dog pictures, half of which are rotated sideways.\n\nSpecifying and compiling the model look the same as in the example you've seen. But you'll need to make some changes to fit the model.\n\n# 1) Specify the Model\n\nSince this is your first time, you won't yet be able to create this from scratch. \n\nWe've filled in most of the code you'll need, but left some critical pieces blank.  \n\nFill in the blanks (marked with `____`) in the  code below. Then uncomment those lines and run the cell.\n"
    },
    {
      "metadata": {
        "_uuid": "faf25f5fafd8ce5797eb8e42a7dfca1f612f12bb",
        "collapsed": true,
        "_cell_guid": "896b4b37-28d6-419b-b0f7-bca8f57fbae8",
        "trusted": true
      },
      "cell_type": "code",
      "source": "from tensorflow.python.keras.applications import ResNet50\nfrom tensorflow.python.keras.models import Sequential\nfrom tensorflow.python.keras.layers import Dense, Flatten, GlobalAveragePooling2D\n\n# num_classes is the number of categories your model chooses between for each prediction\nnum_classes = 2\nresnet_weights_path = '../input/resnet50/resnet50_weights_tf_dim_ordering_tf_kernels_notop.h5'\n\nmy_new_model = Sequential()\nmy_new_model.add(ResNet50(include_top=False, pooling='avg', weights=resnet_weights_path))\nmy_new_model.add(Dense(num_classes, activation='softmax'))\n\n# The value below is either True or False.  If you choose the wrong answer, your modeling results\n# won't be very good.  Recall whether the first layer should be trained/changed or not.\nmy_new_model.layers[0].trainable = False",
      "execution_count": null,
      "outputs": []
    },
    {
      "metadata": {
        "_uuid": "1e062093cdfb78e5f9993cdc357567bda7756992",
        "_cell_guid": "6e3132a9-5f28-41c2-b416-78c99992b7d2"
      },
      "cell_type": "markdown",
      "source": "# 2) Compile the Model\n\nWe have again provided most of the code, and left one extremely important piece blank. Fill in the blank (marked with `____`).  Then uncomment that line of code and run the cell."
    },
    {
      "metadata": {
        "_uuid": "682c3dc3f971065af0e4838abc39c185c945079e",
        "collapsed": true,
        "_cell_guid": "52fbd3c7-f972-47f2-abea-bec4c77f92fb",
        "trusted": true
      },
      "cell_type": "code",
      "source": "# We are calling the compile command for some python object. \n# Which python object is being compiled? Fill in the answer so the compile command works.\nmy_new_model.compile(optimizer='sgd', loss='categorical_crossentropy', metrics=['accuracy'])",
      "execution_count": null,
      "outputs": []
    },
    {
      "metadata": {
        "_uuid": "d4d04e7c88fce6008906dd792d4ba3dea7104fe9",
        "_cell_guid": "90824461-8efb-43bc-880c-5b8727d8926d"
      },
      "cell_type": "markdown",
      "source": "# 3) Fit Model\n\n**Your training data is in the directory `../input/dogs-gone-sideways/images/train`. The validation data is in `../input/dogs-gone-sideways/images/val`**. Use that information when setting up `train_generator` and `validation_generator`.\n\nYou have 220 images of training data and 217 of validation data.  For the training generator, choose a batch size of 10. Figure out the appropriate value of `steps_per_epoch` in your `fit_generator` call?   It isn't the same as in the example.\n\nFill in all the blanks (again marked as `____`).  Then uncomment each line and run the cell of code.  Watch as your model trains the weights and the accuracy improves."
    },
    {
      "metadata": {
        "_uuid": "c04e80557ccb3ba95f91aba84f157b7079ac2330",
        "_cell_guid": "df8f85bb-e996-4385-819b-82a1a5466f95",
        "trusted": true,
        "collapsed": true
      },
      "cell_type": "code",
      "source": "from tensorflow.python.keras.applications.resnet50 import preprocess_input\nfrom tensorflow.python.keras.preprocessing.image import ImageDataGenerator\n\nimage_size = 224\ndata_generator = ImageDataGenerator(preprocess_input)\n\ntrain_generator = data_generator.flow_from_directory(\n        directory = '../input/dogs-gone-sideways/images/train',\n        target_size=(image_size, image_size),\n        batch_size=10,\n        class_mode='categorical')\n\nvalidation_generator = data_generator.flow_from_directory(\n        directory = '../input/dogs-gone-sideways/images/val',\n        target_size=(image_size, image_size),\n        class_mode='categorical')\n\nmy_new_model.fit_generator(\n        train_generator,\n        steps_per_epoch=7,\n        validation_data=validation_generator,\n        validation_steps=1)",
      "execution_count": null,
      "outputs": []
    },
    {
      "metadata": {
        "_uuid": "11bd32dc0546117d2ff3f6d2a1b1041ff6cdfc10",
        "_cell_guid": "cf797cc7-4117-4bc5-b68d-a060cffa8683"
      },
      "cell_type": "markdown",
      "source": "\nCan you tell from the results what fraction of the time your model was correct in the validation data? \n\nIn the next step, we'll see if we can improve on that.\n\n# Keep Going\nMove on to learn about [data augmentation](https://www.kaggle.com/dansbecker/data-augmentation/).  It is a clever and easy way to improve your models. Then you'll apply data augmentation to this automatic image rotation problem.\n"
    }
  ],
  "metadata": {
    "language_info": {
      "name": "python",
      "version": "3.6.6",
      "mimetype": "text/x-python",
      "codemirror_mode": {
        "name": "ipython",
        "version": 3
      },
      "pygments_lexer": "ipython3",
      "nbconvert_exporter": "python",
      "file_extension": ".py"
    },
    "kernelspec": {
      "display_name": "Python 3",
      "language": "python",
      "name": "python3"
    }
  },
  "nbformat": 4,
  "nbformat_minor": 1
}